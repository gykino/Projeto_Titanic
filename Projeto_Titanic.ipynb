{
 "cells": [
  {
   "cell_type": "markdown",
   "metadata": {},
   "source": [
    "# Introdução\n",
    "\n",
    "Com a ajuda das bibliotecas _Numpy_, _Pandas_, _Matplotlib_ e _Seaborn_ vamos explorar a base de dados `titatic-data-6.csv` para tirar conclusões a cerca do acidente envolvendo o navio Titanic. Para isso, tentaremos responder as seguintes perguntas na tentativa de encontrar alguns fatores que levaram alguns passageiros a sobreviver ou falecer no naufrágio.\n",
    "\n",
    "Além disso, iremos utilizar informações retiradas do site [Titanic em foco](http://titanicemfoco.blogspot.com/2011/10/dentro-do-titanic-uma-visao-geral.html) a fim de ter uma visão geral do funcionamento do navio.\n",
    "\n",
    "## Perguntas\n",
    "\n",
    "1. De acordo com o site _Titanic em foco_ os passageiros foram alocados em posições diferentes do navio de acordo com o tipo de ticket comprado, primeira classe sendo o mais caro e terceira classe o mais barato. A renda foi um fator importante na sobrevivência dos tripulantes?\n",
    "\n",
    "2. Apesar de não ser um procedimento oficial é de costume dar prioridade a evacuação de crianças e mulheres, isto ocorreu no Titanic?\n",
    "\n",
    "3. Em qual local de embarque houve mais sobreviventes?"
   ]
  },
  {
   "cell_type": "code",
   "execution_count": 1,
   "metadata": {
    "scrolled": false
   },
   "outputs": [
    {
     "data": {
      "text/html": [
       "<div>\n",
       "<style scoped>\n",
       "    .dataframe tbody tr th:only-of-type {\n",
       "        vertical-align: middle;\n",
       "    }\n",
       "\n",
       "    .dataframe tbody tr th {\n",
       "        vertical-align: top;\n",
       "    }\n",
       "\n",
       "    .dataframe thead th {\n",
       "        text-align: right;\n",
       "    }\n",
       "</style>\n",
       "<table border=\"1\" class=\"dataframe\">\n",
       "  <thead>\n",
       "    <tr style=\"text-align: right;\">\n",
       "      <th></th>\n",
       "      <th>PassengerId</th>\n",
       "      <th>Survived</th>\n",
       "      <th>Pclass</th>\n",
       "      <th>Name</th>\n",
       "      <th>Sex</th>\n",
       "      <th>Age</th>\n",
       "      <th>SibSp</th>\n",
       "      <th>Parch</th>\n",
       "      <th>Ticket</th>\n",
       "      <th>Fare</th>\n",
       "      <th>Cabin</th>\n",
       "      <th>Embarked</th>\n",
       "    </tr>\n",
       "  </thead>\n",
       "  <tbody>\n",
       "    <tr>\n",
       "      <th>0</th>\n",
       "      <td>1</td>\n",
       "      <td>0</td>\n",
       "      <td>3</td>\n",
       "      <td>Braund, Mr. Owen Harris</td>\n",
       "      <td>male</td>\n",
       "      <td>22.0</td>\n",
       "      <td>1</td>\n",
       "      <td>0</td>\n",
       "      <td>A/5 21171</td>\n",
       "      <td>7.2500</td>\n",
       "      <td>NaN</td>\n",
       "      <td>S</td>\n",
       "    </tr>\n",
       "    <tr>\n",
       "      <th>1</th>\n",
       "      <td>2</td>\n",
       "      <td>1</td>\n",
       "      <td>1</td>\n",
       "      <td>Cumings, Mrs. John Bradley (Florence Briggs Th...</td>\n",
       "      <td>female</td>\n",
       "      <td>38.0</td>\n",
       "      <td>1</td>\n",
       "      <td>0</td>\n",
       "      <td>PC 17599</td>\n",
       "      <td>71.2833</td>\n",
       "      <td>C85</td>\n",
       "      <td>C</td>\n",
       "    </tr>\n",
       "    <tr>\n",
       "      <th>2</th>\n",
       "      <td>3</td>\n",
       "      <td>1</td>\n",
       "      <td>3</td>\n",
       "      <td>Heikkinen, Miss. Laina</td>\n",
       "      <td>female</td>\n",
       "      <td>26.0</td>\n",
       "      <td>0</td>\n",
       "      <td>0</td>\n",
       "      <td>STON/O2. 3101282</td>\n",
       "      <td>7.9250</td>\n",
       "      <td>NaN</td>\n",
       "      <td>S</td>\n",
       "    </tr>\n",
       "    <tr>\n",
       "      <th>3</th>\n",
       "      <td>4</td>\n",
       "      <td>1</td>\n",
       "      <td>1</td>\n",
       "      <td>Futrelle, Mrs. Jacques Heath (Lily May Peel)</td>\n",
       "      <td>female</td>\n",
       "      <td>35.0</td>\n",
       "      <td>1</td>\n",
       "      <td>0</td>\n",
       "      <td>113803</td>\n",
       "      <td>53.1000</td>\n",
       "      <td>C123</td>\n",
       "      <td>S</td>\n",
       "    </tr>\n",
       "    <tr>\n",
       "      <th>4</th>\n",
       "      <td>5</td>\n",
       "      <td>0</td>\n",
       "      <td>3</td>\n",
       "      <td>Allen, Mr. William Henry</td>\n",
       "      <td>male</td>\n",
       "      <td>35.0</td>\n",
       "      <td>0</td>\n",
       "      <td>0</td>\n",
       "      <td>373450</td>\n",
       "      <td>8.0500</td>\n",
       "      <td>NaN</td>\n",
       "      <td>S</td>\n",
       "    </tr>\n",
       "  </tbody>\n",
       "</table>\n",
       "</div>"
      ],
      "text/plain": [
       "   PassengerId  Survived  Pclass  \\\n",
       "0            1         0       3   \n",
       "1            2         1       1   \n",
       "2            3         1       3   \n",
       "3            4         1       1   \n",
       "4            5         0       3   \n",
       "\n",
       "                                                Name     Sex   Age  SibSp  \\\n",
       "0                            Braund, Mr. Owen Harris    male  22.0      1   \n",
       "1  Cumings, Mrs. John Bradley (Florence Briggs Th...  female  38.0      1   \n",
       "2                             Heikkinen, Miss. Laina  female  26.0      0   \n",
       "3       Futrelle, Mrs. Jacques Heath (Lily May Peel)  female  35.0      1   \n",
       "4                           Allen, Mr. William Henry    male  35.0      0   \n",
       "\n",
       "   Parch            Ticket     Fare Cabin Embarked  \n",
       "0      0         A/5 21171   7.2500   NaN        S  \n",
       "1      0          PC 17599  71.2833   C85        C  \n",
       "2      0  STON/O2. 3101282   7.9250   NaN        S  \n",
       "3      0            113803  53.1000  C123        S  \n",
       "4      0            373450   8.0500   NaN        S  "
      ]
     },
     "execution_count": 1,
     "metadata": {},
     "output_type": "execute_result"
    }
   ],
   "source": [
    "#Importando bibliotecas\n",
    "import pandas as pd\n",
    "import numpy as py\n",
    "\n",
    "#Importando biblioteca gráfica\n",
    "import matplotlib.pyplot as plt\n",
    "import seaborn as sns\n",
    "\n",
    "#Carregando dados sobre o naufrágio\n",
    "df_titanic = pd.read_csv('titanic-data-6.csv')\n",
    "\n",
    "#Mostrando as 5 primeiras linhas dos dados\n",
    "df_titanic.head()"
   ]
  },
  {
   "cell_type": "markdown",
   "metadata": {},
   "source": [
    "# Limpeza de dados\n",
    "\n",
    "Após carregar o banco de dados vamos checar a consistência dos dados, buscar valores nulos e se o tipo de dado é o melhor para aquela informação. A descrição de cada coluna e aplicar as devidas correções:\n",
    "\n",
    "1. PassengerId (int): ID do passageiro.\n",
    "2. Survived (int): Indica se o passageiro sobreviveu ou não. 0 = Faleceu / 1 = Sobreviveu\n",
    "3. Pclass (int): Indica o tipo de ticket. 1 = 1st classe / 2 = 2st classe / 3 = 3st classe\n",
    "4. Name (string): Nome do passageiro.\n",
    "5. Sex (string): Gênero do passageiro.\n",
    "6. Age (float): Idade do passageiro.\n",
    "7. SibSp (int): Número de irmãos abordo.\n",
    "8. Parch (int): Número de parentes abordo.\n",
    "9. Ticket (string): Registro da passagem.\n",
    "10. Fare (float): Tarifa.\n",
    "11. Cabin (string): Cabine do passageiro.\n",
    "12. Embarked (string): Local de embarque do passageiro. S = Southampton / Q = Queenstown / C = Cherbourg"
   ]
  },
  {
   "cell_type": "markdown",
   "metadata": {},
   "source": [
    "1. Primeiramente, vamos verificar o conteúdo do banco de dados."
   ]
  },
  {
   "cell_type": "code",
   "execution_count": 2,
   "metadata": {
    "scrolled": true
   },
   "outputs": [
    {
     "name": "stdout",
     "output_type": "stream",
     "text": [
      "<class 'pandas.core.frame.DataFrame'>\n",
      "RangeIndex: 891 entries, 0 to 890\n",
      "Data columns (total 12 columns):\n",
      "PassengerId    891 non-null int64\n",
      "Survived       891 non-null int64\n",
      "Pclass         891 non-null int64\n",
      "Name           891 non-null object\n",
      "Sex            891 non-null object\n",
      "Age            714 non-null float64\n",
      "SibSp          891 non-null int64\n",
      "Parch          891 non-null int64\n",
      "Ticket         891 non-null object\n",
      "Fare           891 non-null float64\n",
      "Cabin          204 non-null object\n",
      "Embarked       889 non-null object\n",
      "dtypes: float64(2), int64(5), object(5)\n",
      "memory usage: 66.2+ KB\n"
     ]
    }
   ],
   "source": [
    "df_titanic.info()"
   ]
  },
  {
   "cell_type": "markdown",
   "metadata": {},
   "source": [
    "2. Checando se o banco de dados possui valores duplicados. No caso, o código retorna 0 o que significa que não a presença dados duplicados."
   ]
  },
  {
   "cell_type": "code",
   "execution_count": 3,
   "metadata": {
    "scrolled": true
   },
   "outputs": [
    {
     "data": {
      "text/plain": [
       "0"
      ]
     },
     "execution_count": 3,
     "metadata": {},
     "output_type": "execute_result"
    }
   ],
   "source": [
    "py.sum(df_titanic.duplicated())"
   ]
  },
  {
   "cell_type": "markdown",
   "metadata": {},
   "source": [
    "3. A coluna __Sex__ é do tipo __object(String)__, para facilitar a manipulação da variável a melhor opção é convertê-la para __int__ 0/1 (Ou boolean)."
   ]
  },
  {
   "cell_type": "code",
   "execution_count": 4,
   "metadata": {},
   "outputs": [],
   "source": [
    "mapa_genero = {'male': 0,'female': 1}\n",
    "\n",
    "df_titanic['Sex'] = df_titanic['Sex'].map(mapa_genero)"
   ]
  },
  {
   "cell_type": "markdown",
   "metadata": {},
   "source": [
    "4. A coluna __Embarked__ é do tipo __object(String)__, pelo mesmo motivo da coluna __Sex__ vamos trocar o tipo de variável para __int__ onde C = 0, Q = 1 e S = 2."
   ]
  },
  {
   "cell_type": "code",
   "execution_count": 5,
   "metadata": {},
   "outputs": [],
   "source": [
    "mapa_embarque = {'C': 0,'Q': 1,'S' : 2}\n",
    "\n",
    "df_titanic['Embarked'] = df_titanic['Embarked'].map(mapa_embarque)"
   ]
  },
  {
   "cell_type": "markdown",
   "metadata": {},
   "source": [
    "5. Além disso, a mesma coluna têm 2 valores ausentes que deverão ser preenchidos. Para isso, vamos encontrar o local com maior embarque de pessoas e usá-lo para preencher os valores vazios."
   ]
  },
  {
   "cell_type": "code",
   "execution_count": 6,
   "metadata": {},
   "outputs": [],
   "source": [
    "df_titanic['Embarked'].value_counts()\n",
    "\n",
    "df_titanic['Embarked'].fillna(2, inplace = True)"
   ]
  },
  {
   "cell_type": "markdown",
   "metadata": {},
   "source": [
    "6. Foi encontrado __177 entradas vazias__ na coluna __Age__, para solucionar este problema vamos inserir a média da idade da tripulação nas células nulas."
   ]
  },
  {
   "cell_type": "code",
   "execution_count": 7,
   "metadata": {},
   "outputs": [],
   "source": [
    "media = df_titanic['Age'].mean()\n",
    "\n",
    "df_titanic['Age'].fillna(media, inplace = True)"
   ]
  },
  {
   "cell_type": "markdown",
   "metadata": {},
   "source": [
    "7. A coluna __Cabin__ possui muitos dados em branco o que inviabiliza uma estimativa, por isso, vamos remover esta coluna. Além da coluna Cabin também vamos remover as colunas __PassengerID__, __Ticket__ e __Name__ por que não serão usadas na análise."
   ]
  },
  {
   "cell_type": "code",
   "execution_count": 8,
   "metadata": {},
   "outputs": [],
   "source": [
    "df_titanic.drop(['Cabin','PassengerId','Ticket','Name'], axis = 1, inplace = True)"
   ]
  },
  {
   "cell_type": "markdown",
   "metadata": {},
   "source": [
    "8. Agora, vamos verificar as mudanças no banco de dados."
   ]
  },
  {
   "cell_type": "code",
   "execution_count": 9,
   "metadata": {},
   "outputs": [
    {
     "name": "stdout",
     "output_type": "stream",
     "text": [
      "<class 'pandas.core.frame.DataFrame'>\n",
      "RangeIndex: 891 entries, 0 to 890\n",
      "Data columns (total 8 columns):\n",
      "Survived    891 non-null int64\n",
      "Pclass      891 non-null int64\n",
      "Sex         891 non-null int64\n",
      "Age         891 non-null float64\n",
      "SibSp       891 non-null int64\n",
      "Parch       891 non-null int64\n",
      "Fare        891 non-null float64\n",
      "Embarked    891 non-null float64\n",
      "dtypes: float64(3), int64(5)\n",
      "memory usage: 55.7 KB\n"
     ]
    }
   ],
   "source": [
    "df_titanic.info()"
   ]
  },
  {
   "cell_type": "markdown",
   "metadata": {},
   "source": [
    "9. Por fim, vamos dispor as entradas do dataframe para encaminhar a análise dos dados."
   ]
  },
  {
   "cell_type": "code",
   "execution_count": 10,
   "metadata": {},
   "outputs": [
    {
     "data": {
      "text/html": [
       "<div>\n",
       "<style scoped>\n",
       "    .dataframe tbody tr th:only-of-type {\n",
       "        vertical-align: middle;\n",
       "    }\n",
       "\n",
       "    .dataframe tbody tr th {\n",
       "        vertical-align: top;\n",
       "    }\n",
       "\n",
       "    .dataframe thead th {\n",
       "        text-align: right;\n",
       "    }\n",
       "</style>\n",
       "<table border=\"1\" class=\"dataframe\">\n",
       "  <thead>\n",
       "    <tr style=\"text-align: right;\">\n",
       "      <th></th>\n",
       "      <th>Survived</th>\n",
       "      <th>Pclass</th>\n",
       "      <th>Sex</th>\n",
       "      <th>Age</th>\n",
       "      <th>SibSp</th>\n",
       "      <th>Parch</th>\n",
       "      <th>Fare</th>\n",
       "      <th>Embarked</th>\n",
       "    </tr>\n",
       "  </thead>\n",
       "  <tbody>\n",
       "    <tr>\n",
       "      <th>count</th>\n",
       "      <td>891.000000</td>\n",
       "      <td>891.000000</td>\n",
       "      <td>891.000000</td>\n",
       "      <td>891.000000</td>\n",
       "      <td>891.000000</td>\n",
       "      <td>891.000000</td>\n",
       "      <td>891.000000</td>\n",
       "      <td>891.000000</td>\n",
       "    </tr>\n",
       "    <tr>\n",
       "      <th>mean</th>\n",
       "      <td>0.383838</td>\n",
       "      <td>2.308642</td>\n",
       "      <td>0.352413</td>\n",
       "      <td>29.699118</td>\n",
       "      <td>0.523008</td>\n",
       "      <td>0.381594</td>\n",
       "      <td>32.204208</td>\n",
       "      <td>1.536476</td>\n",
       "    </tr>\n",
       "    <tr>\n",
       "      <th>std</th>\n",
       "      <td>0.486592</td>\n",
       "      <td>0.836071</td>\n",
       "      <td>0.477990</td>\n",
       "      <td>13.002015</td>\n",
       "      <td>1.102743</td>\n",
       "      <td>0.806057</td>\n",
       "      <td>49.693429</td>\n",
       "      <td>0.791503</td>\n",
       "    </tr>\n",
       "    <tr>\n",
       "      <th>min</th>\n",
       "      <td>0.000000</td>\n",
       "      <td>1.000000</td>\n",
       "      <td>0.000000</td>\n",
       "      <td>0.420000</td>\n",
       "      <td>0.000000</td>\n",
       "      <td>0.000000</td>\n",
       "      <td>0.000000</td>\n",
       "      <td>0.000000</td>\n",
       "    </tr>\n",
       "    <tr>\n",
       "      <th>25%</th>\n",
       "      <td>0.000000</td>\n",
       "      <td>2.000000</td>\n",
       "      <td>0.000000</td>\n",
       "      <td>22.000000</td>\n",
       "      <td>0.000000</td>\n",
       "      <td>0.000000</td>\n",
       "      <td>7.910400</td>\n",
       "      <td>1.000000</td>\n",
       "    </tr>\n",
       "    <tr>\n",
       "      <th>50%</th>\n",
       "      <td>0.000000</td>\n",
       "      <td>3.000000</td>\n",
       "      <td>0.000000</td>\n",
       "      <td>29.699118</td>\n",
       "      <td>0.000000</td>\n",
       "      <td>0.000000</td>\n",
       "      <td>14.454200</td>\n",
       "      <td>2.000000</td>\n",
       "    </tr>\n",
       "    <tr>\n",
       "      <th>75%</th>\n",
       "      <td>1.000000</td>\n",
       "      <td>3.000000</td>\n",
       "      <td>1.000000</td>\n",
       "      <td>35.000000</td>\n",
       "      <td>1.000000</td>\n",
       "      <td>0.000000</td>\n",
       "      <td>31.000000</td>\n",
       "      <td>2.000000</td>\n",
       "    </tr>\n",
       "    <tr>\n",
       "      <th>max</th>\n",
       "      <td>1.000000</td>\n",
       "      <td>3.000000</td>\n",
       "      <td>1.000000</td>\n",
       "      <td>80.000000</td>\n",
       "      <td>8.000000</td>\n",
       "      <td>6.000000</td>\n",
       "      <td>512.329200</td>\n",
       "      <td>2.000000</td>\n",
       "    </tr>\n",
       "  </tbody>\n",
       "</table>\n",
       "</div>"
      ],
      "text/plain": [
       "         Survived      Pclass         Sex         Age       SibSp       Parch  \\\n",
       "count  891.000000  891.000000  891.000000  891.000000  891.000000  891.000000   \n",
       "mean     0.383838    2.308642    0.352413   29.699118    0.523008    0.381594   \n",
       "std      0.486592    0.836071    0.477990   13.002015    1.102743    0.806057   \n",
       "min      0.000000    1.000000    0.000000    0.420000    0.000000    0.000000   \n",
       "25%      0.000000    2.000000    0.000000   22.000000    0.000000    0.000000   \n",
       "50%      0.000000    3.000000    0.000000   29.699118    0.000000    0.000000   \n",
       "75%      1.000000    3.000000    1.000000   35.000000    1.000000    0.000000   \n",
       "max      1.000000    3.000000    1.000000   80.000000    8.000000    6.000000   \n",
       "\n",
       "             Fare    Embarked  \n",
       "count  891.000000  891.000000  \n",
       "mean    32.204208    1.536476  \n",
       "std     49.693429    0.791503  \n",
       "min      0.000000    0.000000  \n",
       "25%      7.910400    1.000000  \n",
       "50%     14.454200    2.000000  \n",
       "75%     31.000000    2.000000  \n",
       "max    512.329200    2.000000  "
      ]
     },
     "execution_count": 10,
     "metadata": {},
     "output_type": "execute_result"
    }
   ],
   "source": [
    "df_titanic.describe()"
   ]
  },
  {
   "cell_type": "markdown",
   "metadata": {},
   "source": [
    "Pronto, os dados agora estão preparados para a análise. Recapítulando, verificamos que não há dados duplicados, trocamos o tipo de dado da coluna _Sex_ e _Embarked_ de _object(String)_ para _int_, tratamos a falta de 2 entradas vazias na coluna _Embarked_ e 177 entradas vazias na coluna _Age_. Além disso, removemos a coluna _Cabin_ por possuir muitos dados ausentes e as colunas _PassengerId_, _Ticket_ e _Name_ por que não vamos utilizá-las na análise a seguir."
   ]
  },
  {
   "cell_type": "markdown",
   "metadata": {},
   "source": [
    "# Análise dos dados\n",
    "\n",
    "## Renda dos passageiros (Tipo de passagem)\n",
    "Para encontrar a relação entre a renda da tripulação, expressa pelo valor pago no tipo de passagem dos passageiros e a chance de sobrevivência, cruzamos os dados de tipo de passagem _Pclass_ (1st classe, 2st classe, 3st classe) e a sobrevivência do passageiro _Survived_."
   ]
  },
  {
   "cell_type": "code",
   "execution_count": 11,
   "metadata": {},
   "outputs": [
    {
     "name": "stdout",
     "output_type": "stream",
     "text": [
      "        count  sum\n",
      "Pclass            \n",
      "1         216  136\n",
      "2         184   87\n",
      "3         491  119\n"
     ]
    }
   ],
   "source": [
    "print(df_titanic.groupby('Pclass').Survived.agg(['count', 'sum']))"
   ]
  },
  {
   "cell_type": "markdown",
   "metadata": {},
   "source": [
    "A coluna __count__ mostra o total de passageiros de cada tipo de ticket, já a coluna __sum__ mostra a quantidade de pessoas que sobreviveram."
   ]
  },
  {
   "cell_type": "code",
   "execution_count": 12,
   "metadata": {},
   "outputs": [
    {
     "data": {
      "image/png": "[encoded data removed]",
      "text/plain": [
       "<Figure size 432x288 with 1 Axes>"
      ]
     },
     "metadata": {},
     "output_type": "display_data"
    }
   ],
   "source": [
    "graph_1 = sns.barplot(x='Pclass', y='Survived', data=df_titanic)\n",
    "graph_1.set_ylabel('Sobreviveu')\n",
    "graph_1.set_xlabel('Tipo de Passagem')\n",
    "graph_1.set_title('Gráfico 1a')\n",
    "plt.show()"
   ]
  },
  {
   "cell_type": "code",
   "execution_count": 13,
   "metadata": {},
   "outputs": [
    {
     "data": {
      "image/png": "[encoded data removed]",
      "text/plain": [
       "<Figure size 432x288 with 1 Axes>"
      ]
     },
     "metadata": {},
     "output_type": "display_data"
    }
   ],
   "source": [
    "total_pclass = df_titanic.Survived.groupby(df_titanic.Pclass).sum()\n",
    "legenda_pclass = ['1st', '2st', '3st']\n",
    "plt.axis('equal')\n",
    "plt.pie(total_pclass, labels=legenda_pclass, shadow = True)\n",
    "plt.legend(legenda_pclass, loc='best')\n",
    "plt.tight_layout()\n",
    "plt.title('Gráfico 1b')\n",
    "plt.show()"
   ]
  },
  {
   "cell_type": "markdown",
   "metadata": {},
   "source": [
    "Pelo __Gráfico 1a__ podemos notar que mais de 60% dos tripulantes de primeira classe conseguiram sobreviver a tragédia. Segundo o site Titanic em foco, os aposentos dos passageiros de terceira classe se encontravam na Popa e na Proa do navio o que dificultou o acesso aos botes salva-vidas que se encontravam no convés perto das suítes de primeira classe. Em termos de quantidade de sobreviventes, o __Gráfico 1b__ mostra que a 1º classe teve o maior número de pessoas que superaram a tragédia, seguido pela 3º e 2º classes."
   ]
  },
  {
   "cell_type": "markdown",
   "metadata": {},
   "source": [
    "## Faixa Etária e Gênero\n",
    "Para traçar a relação entre faixa etária e gênero e encontrar a porcentagem de sobreviventes vamos cruzar os dados das colunas _Sex_, _Survived_ e criar uma nova coluna classificando os passageiros em faixas etárias."
   ]
  },
  {
   "cell_type": "code",
   "execution_count": 14,
   "metadata": {},
   "outputs": [
    {
     "name": "stdout",
     "output_type": "stream",
     "text": [
      "     count  sum\n",
      "Sex            \n",
      "0      577  109\n",
      "1      314  233\n"
     ]
    }
   ],
   "source": [
    "print(df_titanic.groupby('Sex').Survived.agg(['count', 'sum']))"
   ]
  },
  {
   "cell_type": "markdown",
   "metadata": {},
   "source": [
    "Pelo resultado do _groupby_, já é possível ver que do total de 577 homens(0) abordo somente 109 escaparam com vida do naufrágio. Já mais da metade das mulheres(1) conseguiram sobreviver, o que indica uma prioridade no embarque dos botes salva-vidas."
   ]
  },
  {
   "cell_type": "code",
   "execution_count": 15,
   "metadata": {},
   "outputs": [
    {
     "data": {
      "image/png": "[encoded data removed]",
      "text/plain": [
       "<Figure size 432x288 with 1 Axes>"
      ]
     },
     "metadata": {},
     "output_type": "display_data"
    }
   ],
   "source": [
    "graph_2 = sns.barplot(x='Sex', y='Survived', data=df_titanic)\n",
    "graph_2.set_ylabel('Sobreviveu')\n",
    "graph_2.set_xlabel('Gênero')\n",
    "graph_2.set_title('Gráfico 2a')\n",
    "plt.show()"
   ]
  },
  {
   "cell_type": "code",
   "execution_count": 16,
   "metadata": {},
   "outputs": [
    {
     "data": {
      "image/png": "[encoded data removed]",
      "text/plain": [
       "<Figure size 432x288 with 1 Axes>"
      ]
     },
     "metadata": {},
     "output_type": "display_data"
    }
   ],
   "source": [
    "total_genero = df_titanic.Survived.groupby(df_titanic.Sex).sum()\n",
    "legenda_genero = ['Homem', 'Mulher']\n",
    "plt.axis('equal')\n",
    "plt.pie(total_genero, labels=legenda_genero, shadow = True)\n",
    "plt.legend(legenda_genero, loc='best')\n",
    "plt.tight_layout()\n",
    "plt.title('Gráfico 2b')\n",
    "plt.show()"
   ]
  },
  {
   "cell_type": "markdown",
   "metadata": {},
   "source": [
    "O __Gráfico 2a__ reforça a conclusão no _groupby_, mulheres foram priorizadas na evacuação do navio. Já o __Gráfico 2b__ mostra de maneira quantitativa a diferença entre o número de sobreviventes em ambos os gêneros."
   ]
  },
  {
   "cell_type": "markdown",
   "metadata": {},
   "source": [
    "Para encontrar a relação entre as diversas faixas etárias e a chance de sobrevivência foi preciso criar uma nova coluna chamada _Faixa_ onde a classificação etária definida foi dividida em __criança__ para idade menor ou igual a 12 anos, __adolescente__ entre 12 e 18 anos, __adultos__ até 60 anos e __idosos__ com idade acima dos 60 anos."
   ]
  },
  {
   "cell_type": "code",
   "execution_count": 17,
   "metadata": {},
   "outputs": [
    {
     "name": "stdout",
     "output_type": "stream",
     "text": [
      "             count  sum\n",
      "Faixa                  \n",
      "adolescente     70   30\n",
      "adulto         730  267\n",
      "crianca         69   40\n",
      "idoso           22    5\n"
     ]
    }
   ],
   "source": [
    "def faixa_etaria (data):\n",
    "    \n",
    "# Classifica os passageiros de acordo com sua faixa etária.\n",
    "# Argumentos:\n",
    "#     data: dataframe\n",
    "# Retorna:\n",
    "#     Retorna uma string de acordo com a faixa etária.\n",
    "\n",
    "    if py.round(data['Age']) <= 12:\n",
    "        return 'crianca'\n",
    "    elif py.round(data['Age']) <= 18:\n",
    "        return 'adolescente'\n",
    "    elif py.round(data['Age']) <= 60:\n",
    "        return 'adulto'\n",
    "    elif py.round(data['Age']) > 60:\n",
    "        return 'idoso'\n",
    "    return 'indefinido'\n",
    "\n",
    "#Cria coluna de faixa etária\n",
    "df_titanic['Faixa'] = df_titanic.apply(faixa_etaria, axis = 1)\n",
    "\n",
    "print(df_titanic.groupby('Faixa').Survived.agg(['count', 'sum']))"
   ]
  },
  {
   "cell_type": "markdown",
   "metadata": {},
   "source": [
    "O _groupby_ mostra que houve prioridade para o embarque de crianças nos botes já que mais da metade delas sobreviveram. "
   ]
  },
  {
   "cell_type": "code",
   "execution_count": 18,
   "metadata": {},
   "outputs": [
    {
     "data": {
      "image/png": "[encoded data removed]",
      "text/plain": [
       "<Figure size 432x288 with 1 Axes>"
      ]
     },
     "metadata": {},
     "output_type": "display_data"
    }
   ],
   "source": [
    "graph_3 = sns.barplot(x='Faixa', y='Survived', data=df_titanic)\n",
    "graph_3.set_ylabel('Sobreviveu')\n",
    "graph_3.set_xlabel('Faixa Etária')\n",
    "graph_3.set_title('Gráfico 3a')\n",
    "plt.show()"
   ]
  },
  {
   "cell_type": "code",
   "execution_count": 19,
   "metadata": {},
   "outputs": [
    {
     "data": {
      "image/png": "[encoded data removed]",
      "text/plain": [
       "<Figure size 432x288 with 1 Axes>"
      ]
     },
     "metadata": {},
     "output_type": "display_data"
    }
   ],
   "source": [
    "total_faixa = df_titanic.Survived.groupby(df_titanic.Faixa).sum()\n",
    "legenda_faixa = ['Adolescente', 'Adulto', 'Criança', 'Idoso']\n",
    "plt.axis('equal')\n",
    "plt.pie(total_faixa, labels=legenda_faixa, shadow = True)\n",
    "plt.legend(legenda_faixa, loc='best')\n",
    "plt.tight_layout()\n",
    "plt.title('Gráfico 3b')\n",
    "plt.show()"
   ]
  },
  {
   "cell_type": "markdown",
   "metadata": {},
   "source": [
    "Pelo __Gráfico 3a__ pode-ser observar que assim como as crianças, os adolescentes também tiveram preferencia nos botes. Já o __Gráfico 3b__ mostra que, em termos quantitativos, grande parte dos sobreviventes são _Adultos_, seguido por _Crianças_, _Adolescentes_ e _Idosos_"
   ]
  },
  {
   "cell_type": "code",
   "execution_count": 20,
   "metadata": {},
   "outputs": [
    {
     "data": {
      "image/png": "[encoded data removed]",
      "text/plain": [
       "<Figure size 330.375x288 with 1 Axes>"
      ]
     },
     "metadata": {},
     "output_type": "display_data"
    }
   ],
   "source": [
    "graph_4 = sns.factorplot(x='Faixa', y='Survived', hue='Sex', kind='bar', data=df_titanic)\n",
    "graph_4.fig.suptitle('Gráfico 4')\n",
    "plt.show()"
   ]
  },
  {
   "cell_type": "markdown",
   "metadata": {},
   "source": [
    "Juntando as faixas etárias e os gêneros no __Gráfico 4__ pode-se observar nitidamente que, com exceção das crianças, mulheres tiveram prioridade na evacuação do navio em todas as faixas etárias, e que todas as mulheres idosas no navio conseguiram sobreviver. Não houve distinção de sexo entre as crianças que foram resgatadas."
   ]
  },
  {
   "cell_type": "markdown",
   "metadata": {},
   "source": [
    "## Local de Embarque\n",
    "Para encontrar qual o local em que mais sobreviventes embarcaram traçamos uma relação entre o local de embarque e a chance de sobrevivência cruzado os dados do local de embarque _Embarked_ (S, C, Q) e de passageiros que sobreviveram _Survived_. Mais adiante, também vamos buscar as relações entre a renda da tripulação, o local de embarque e a chance de sobrevida."
   ]
  },
  {
   "cell_type": "code",
   "execution_count": 21,
   "metadata": {},
   "outputs": [
    {
     "name": "stdout",
     "output_type": "stream",
     "text": [
      "          count  sum\n",
      "Embarked            \n",
      "0.0         168   93\n",
      "1.0          77   30\n",
      "2.0         646  219\n"
     ]
    }
   ],
   "source": [
    "print(df_titanic.groupby('Embarked').Survived.agg(['count', 'sum']))"
   ]
  },
  {
   "cell_type": "markdown",
   "metadata": {},
   "source": [
    "Analisando o _groupby_ podemos notar que maior parte dos sobreviventes embarcaram no porto de __Southampton__ (2)."
   ]
  },
  {
   "cell_type": "code",
   "execution_count": 22,
   "metadata": {},
   "outputs": [
    {
     "data": {
      "image/png": "[encoded data removed]",
      "text/plain": [
       "<Figure size 432x288 with 1 Axes>"
      ]
     },
     "metadata": {},
     "output_type": "display_data"
    }
   ],
   "source": [
    "#0 = Cherbourg / 1 = Queenstown / 2 = Southampton\n",
    "total_embarque = df_titanic.Survived.groupby(df_titanic.Embarked).sum()\n",
    "legenda_embarque = ['Cherbourg', 'Queenstown', 'Southampton']\n",
    "plt.axis('equal')\n",
    "plt.pie(total_embarque, labels=legenda_embarque, shadow = True, startangle=90)\n",
    "plt.legend(legenda_embarque, loc='best')\n",
    "plt.tight_layout()\n",
    "plt.title('Gráfico 5')\n",
    "plt.show()"
   ]
  },
  {
   "cell_type": "markdown",
   "metadata": {},
   "source": [
    "Conforme visto no __Gráfico 5__, a maioria dos passageiros sobreviventes embarcou pelo porto de __Southampton__, seguido por __Cherbourg__ e __Queenstown__."
   ]
  },
  {
   "cell_type": "code",
   "execution_count": 23,
   "metadata": {},
   "outputs": [
    {
     "data": {
      "image/png": "[encoded data removed]",
      "text/plain": [
       "<Figure size 432x288 with 1 Axes>"
      ]
     },
     "metadata": {},
     "output_type": "display_data"
    }
   ],
   "source": [
    "graph_6 = sns.pointplot(x='Pclass', y= 'Survived', hue='Embarked', data=df_titanic)\n",
    "graph_6.set_title('Gráfico 6')\n",
    "plt.show()"
   ]
  },
  {
   "cell_type": "markdown",
   "metadata": {},
   "source": [
    "Juntando as informações do tipo de passagem e local de embarque no __Gráfico 6__, vemos que a maior parte dos sobreviventes da primeira classe embarcou em _Cherbourg_. Já a segunda classe, a maior taxa de sobrevida foi observada em _Queenstown_ e praticamente empatados na terceira classe encontram-se os portos de _Cherbourg_ e _Queenstown_."
   ]
  },
  {
   "cell_type": "markdown",
   "metadata": {},
   "source": [
    "# Conclusão\n",
    "\n",
    "Após a análise dos dados podemos deduzir algumas respostas às nossas perguntas do início do projeto. De acordo com o site _Titanic em foco_, os aposentos dos tripulantes da primeira classe se encontravam perto do convés o que poderia facilitar o acesso aos botes salva-vidas, o __Gráfico 1a__ indica que a maior parte dos viajantes de primeira classe conseguiu sobreviver à tragédia.\n",
    "\n",
    "Também foi observado nos __Gráficos 2a__, __3a__ e __4__ que a maior parte dos sobreviventes foram mulheres e crianças o que demonstra uma prioridade no resgate destes dois grupos.\n",
    "\n",
    "Além disso, percebemos no __Gráfico 5__ que a maior parte dos sobreviventes embarcou no porto de _Southampton_ e no __Gráfico 6__, ao correlacionar o tipo de passagem e o local de partida, foi observado que dentre o grupo de pessoas da _1º classe_ as pessoas que embarcaram em _Cherbourg_ tiveram mais chance de viver. Já na _2º classe_, os tripulantes que subiram abordo em _Queenstown_ tiveram maior chance de sobrevida. Por fim, entre os integrantes da _3º classe_ há um empate técnico entre os portos de _Cherbourg_ e _Queenstown_."
   ]
  },
  {
   "cell_type": "markdown",
   "metadata": {},
   "source": [
    "## Limitações\n",
    "\n",
    "O banco de dados, como a coluna _Age_ por exemplo, possui muitos valores em branco o que poderia influênciar a média e desvio padrão da amostra mesmo preenchendo os valores com a média das idades. Já a coluna _Cabin_, a ausência de mais da metade dos dados inviabiliza o seu uso para análise como também um possível preenchimento de valores usando por base alguma estimativa. Talvez, usando __machine learning__ seja possível fazê-lo. Por fim, seria interessante obter mais dados dos passageiros, como a nacionalidade por exemplo, para encontrar mais conclusões a cerca da tragédia do Titanic."
   ]
  },
  {
   "cell_type": "markdown",
   "metadata": {},
   "source": [
    "# Referências\n",
    "\n",
    "Trocar tipo de coluna: https://stackoverflow.com/questions/20093474/python-pandas-replace-number-with-string\n",
    "\n",
    "Contar ocorrências no Pandas: https://stackoverflow.com/questions/20076195/what-is-the-most-efficient-way-of-counting-occurrences-in-pandas\n",
    "\n",
    "Tutorial Seaborn: https://www.datacamp.com/community/tutorials/seaborn-python-tutorial#sm\n",
    "\n",
    "Criando coluna no dataframe: https://stackoverflow.com/questions/27041724/using-conditional-to-generate-new-column-in-pandas-dataframe\n",
    "\n",
    "Mapa do Titanic: http://titanicemfoco.blogspot.com/2011/10/dentro-do-titanic-uma-visao-geral.html\n",
    "\n",
    "Groupby: http://pandas.pydata.org/pandas-docs/version/0.22/generated/pandas.core.groupby.DataFrameGroupBy.agg.html\n",
    "\n",
    "Tipos de gráfico: https://seaborn.pydata.org/tutorial/categorical.html\n",
    "\n",
    "Gráfico de pizza: https://stackoverflow.com/questions/31499033/how-do-i-plot-a-pie-chart-using-pandas-with-this-data\n",
    "\n",
    "Mais gráfico de pizza: https://pythonspot.com/matplotlib-pie-chart/"
   ]
  },
  {
   "cell_type": "code",
   "execution_count": null,
   "metadata": {},
   "outputs": [],
   "source": []
  }
 ],
 "metadata": {
  "kernelspec": {
   "display_name": "Python 3",
   "language": "python",
   "name": "python3"
  },
  "language_info": {
   "codemirror_mode": {
    "name": "ipython",
    "version": 3
   },
   "file_extension": ".py",
   "mimetype": "text/x-python",
   "name": "python",
   "nbconvert_exporter": "python",
   "pygments_lexer": "ipython3",
   "version": "3.6.5"
  }
 },
 "nbformat": 4,
 "nbformat_minor": 2
}
